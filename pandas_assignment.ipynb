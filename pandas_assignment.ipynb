{
 "cells": [
  {
   "cell_type": "markdown",
   "id": "57e22018-8463-4dc2-a9e2-e956370e9a17",
   "metadata": {},
   "source": [
    "## Assignment 2 - Working with Pandas"
   ]
  },
  {
   "cell_type": "markdown",
   "id": "7fd0a7be-c830-4e9a-847c-3267c4771475",
   "metadata": {},
   "source": [
    "1. Create a DataFrame with the following data:  \n",
    "  \n",
    "\n",
    "\n",
    "  data = {\n",
    "      'Name': ['Alice', 'Bob', 'Charlie', 'Diana', 'Eve'],\n",
    "      'Age': [24, 27, 22, 32, 29],\n",
    "      'Department': ['HR', 'Finance', 'IT', 'Marketing', 'HR'],\n",
    "      'Salary': [45000, 54000, 50000, 62000, 47000]\n",
    "  }\n",
    "  \n",
    "  a. Print the first five rows of the DataFrame.  \n",
    "  b. Get the summary statistics of the 'Age' and 'Salary' columns.  \n",
    "  c. Calculate the average salary of employees in the 'HR' department.\n"
   ]
  },
  {
   "cell_type": "code",
   "execution_count": 76,
   "id": "f73db405-a7cf-431c-b98b-0022303f5f07",
   "metadata": {},
   "outputs": [],
   "source": [
    "import numpy as np\n",
    "import pandas as pd"
   ]
  },
  {
   "cell_type": "code",
   "execution_count": 78,
   "id": "b39f0a93-d385-4ae7-a5a5-7b8935af86e1",
   "metadata": {},
   "outputs": [
    {
     "data": {
      "text/plain": [
       "{'Name': ['Alice', 'Bob', 'Charlie', 'Diana', 'Eve'],\n",
       " 'Age': [24, 27, 22, 32, 29],\n",
       " 'Department': ['HR', 'Finance', 'IT', 'Marketing', 'HR'],\n",
       " 'Salary': [45000, 54000, 50000, 62000, 47000]}"
      ]
     },
     "execution_count": 78,
     "metadata": {},
     "output_type": "execute_result"
    }
   ],
   "source": [
    "data = { 'Name': ['Alice', 'Bob', 'Charlie', 'Diana', 'Eve'], 'Age': [24, 27, 22, 32, 29],\n",
    "        'Department': ['HR', 'Finance', 'IT', 'Marketing', 'HR'], 'Salary': [45000, 54000, 50000, 62000, 47000] }\n",
    "data"
   ]
  },
  {
   "cell_type": "code",
   "execution_count": 119,
   "id": "37771a1d-47fa-465a-b34f-b9a9b547d57a",
   "metadata": {},
   "outputs": [],
   "source": [
    "df=pd.DataFrame(data)"
   ]
  },
  {
   "cell_type": "code",
   "execution_count": 121,
   "id": "48e2f011-543c-425a-82fe-1b2f2d64001d",
   "metadata": {},
   "outputs": [
    {
     "data": {
      "text/html": [
       "<div>\n",
       "<style scoped>\n",
       "    .dataframe tbody tr th:only-of-type {\n",
       "        vertical-align: middle;\n",
       "    }\n",
       "\n",
       "    .dataframe tbody tr th {\n",
       "        vertical-align: top;\n",
       "    }\n",
       "\n",
       "    .dataframe thead th {\n",
       "        text-align: right;\n",
       "    }\n",
       "</style>\n",
       "<table border=\"1\" class=\"dataframe\">\n",
       "  <thead>\n",
       "    <tr style=\"text-align: right;\">\n",
       "      <th></th>\n",
       "      <th>Name</th>\n",
       "      <th>Age</th>\n",
       "      <th>Department</th>\n",
       "      <th>Salary</th>\n",
       "    </tr>\n",
       "  </thead>\n",
       "  <tbody>\n",
       "    <tr>\n",
       "      <th>0</th>\n",
       "      <td>Alice</td>\n",
       "      <td>24</td>\n",
       "      <td>HR</td>\n",
       "      <td>45000</td>\n",
       "    </tr>\n",
       "    <tr>\n",
       "      <th>1</th>\n",
       "      <td>Bob</td>\n",
       "      <td>27</td>\n",
       "      <td>Finance</td>\n",
       "      <td>54000</td>\n",
       "    </tr>\n",
       "    <tr>\n",
       "      <th>2</th>\n",
       "      <td>Charlie</td>\n",
       "      <td>22</td>\n",
       "      <td>IT</td>\n",
       "      <td>50000</td>\n",
       "    </tr>\n",
       "    <tr>\n",
       "      <th>3</th>\n",
       "      <td>Diana</td>\n",
       "      <td>32</td>\n",
       "      <td>Marketing</td>\n",
       "      <td>62000</td>\n",
       "    </tr>\n",
       "    <tr>\n",
       "      <th>4</th>\n",
       "      <td>Eve</td>\n",
       "      <td>29</td>\n",
       "      <td>HR</td>\n",
       "      <td>47000</td>\n",
       "    </tr>\n",
       "  </tbody>\n",
       "</table>\n",
       "</div>"
      ],
      "text/plain": [
       "      Name  Age Department  Salary\n",
       "0    Alice   24         HR   45000\n",
       "1      Bob   27    Finance   54000\n",
       "2  Charlie   22         IT   50000\n",
       "3    Diana   32  Marketing   62000\n",
       "4      Eve   29         HR   47000"
      ]
     },
     "execution_count": 121,
     "metadata": {},
     "output_type": "execute_result"
    }
   ],
   "source": [
    "df"
   ]
  },
  {
   "cell_type": "code",
   "execution_count": 123,
   "id": "9e39de01-9e0d-4fcd-872b-ac0021c07edc",
   "metadata": {},
   "outputs": [
    {
     "data": {
      "text/html": [
       "<div>\n",
       "<style scoped>\n",
       "    .dataframe tbody tr th:only-of-type {\n",
       "        vertical-align: middle;\n",
       "    }\n",
       "\n",
       "    .dataframe tbody tr th {\n",
       "        vertical-align: top;\n",
       "    }\n",
       "\n",
       "    .dataframe thead th {\n",
       "        text-align: right;\n",
       "    }\n",
       "</style>\n",
       "<table border=\"1\" class=\"dataframe\">\n",
       "  <thead>\n",
       "    <tr style=\"text-align: right;\">\n",
       "      <th></th>\n",
       "      <th>Name</th>\n",
       "      <th>Age</th>\n",
       "      <th>Department</th>\n",
       "      <th>Salary</th>\n",
       "    </tr>\n",
       "  </thead>\n",
       "  <tbody>\n",
       "    <tr>\n",
       "      <th>0</th>\n",
       "      <td>Alice</td>\n",
       "      <td>24</td>\n",
       "      <td>HR</td>\n",
       "      <td>45000</td>\n",
       "    </tr>\n",
       "    <tr>\n",
       "      <th>1</th>\n",
       "      <td>Bob</td>\n",
       "      <td>27</td>\n",
       "      <td>Finance</td>\n",
       "      <td>54000</td>\n",
       "    </tr>\n",
       "    <tr>\n",
       "      <th>2</th>\n",
       "      <td>Charlie</td>\n",
       "      <td>22</td>\n",
       "      <td>IT</td>\n",
       "      <td>50000</td>\n",
       "    </tr>\n",
       "    <tr>\n",
       "      <th>3</th>\n",
       "      <td>Diana</td>\n",
       "      <td>32</td>\n",
       "      <td>Marketing</td>\n",
       "      <td>62000</td>\n",
       "    </tr>\n",
       "    <tr>\n",
       "      <th>4</th>\n",
       "      <td>Eve</td>\n",
       "      <td>29</td>\n",
       "      <td>HR</td>\n",
       "      <td>47000</td>\n",
       "    </tr>\n",
       "  </tbody>\n",
       "</table>\n",
       "</div>"
      ],
      "text/plain": [
       "      Name  Age Department  Salary\n",
       "0    Alice   24         HR   45000\n",
       "1      Bob   27    Finance   54000\n",
       "2  Charlie   22         IT   50000\n",
       "3    Diana   32  Marketing   62000\n",
       "4      Eve   29         HR   47000"
      ]
     },
     "execution_count": 123,
     "metadata": {},
     "output_type": "execute_result"
    }
   ],
   "source": [
    "df.head()"
   ]
  },
  {
   "cell_type": "code",
   "execution_count": 125,
   "id": "6ee54c73-c31e-4637-93f3-7127aa524c7b",
   "metadata": {},
   "outputs": [
    {
     "data": {
      "text/html": [
       "<div>\n",
       "<style scoped>\n",
       "    .dataframe tbody tr th:only-of-type {\n",
       "        vertical-align: middle;\n",
       "    }\n",
       "\n",
       "    .dataframe tbody tr th {\n",
       "        vertical-align: top;\n",
       "    }\n",
       "\n",
       "    .dataframe thead th {\n",
       "        text-align: right;\n",
       "    }\n",
       "</style>\n",
       "<table border=\"1\" class=\"dataframe\">\n",
       "  <thead>\n",
       "    <tr style=\"text-align: right;\">\n",
       "      <th></th>\n",
       "      <th>Age</th>\n",
       "      <th>Salary</th>\n",
       "    </tr>\n",
       "  </thead>\n",
       "  <tbody>\n",
       "    <tr>\n",
       "      <th>count</th>\n",
       "      <td>5.000000</td>\n",
       "      <td>5.000000</td>\n",
       "    </tr>\n",
       "    <tr>\n",
       "      <th>mean</th>\n",
       "      <td>26.800000</td>\n",
       "      <td>51600.000000</td>\n",
       "    </tr>\n",
       "    <tr>\n",
       "      <th>std</th>\n",
       "      <td>3.962323</td>\n",
       "      <td>6730.527468</td>\n",
       "    </tr>\n",
       "    <tr>\n",
       "      <th>min</th>\n",
       "      <td>22.000000</td>\n",
       "      <td>45000.000000</td>\n",
       "    </tr>\n",
       "    <tr>\n",
       "      <th>25%</th>\n",
       "      <td>24.000000</td>\n",
       "      <td>47000.000000</td>\n",
       "    </tr>\n",
       "    <tr>\n",
       "      <th>50%</th>\n",
       "      <td>27.000000</td>\n",
       "      <td>50000.000000</td>\n",
       "    </tr>\n",
       "    <tr>\n",
       "      <th>75%</th>\n",
       "      <td>29.000000</td>\n",
       "      <td>54000.000000</td>\n",
       "    </tr>\n",
       "    <tr>\n",
       "      <th>max</th>\n",
       "      <td>32.000000</td>\n",
       "      <td>62000.000000</td>\n",
       "    </tr>\n",
       "  </tbody>\n",
       "</table>\n",
       "</div>"
      ],
      "text/plain": [
       "             Age        Salary\n",
       "count   5.000000      5.000000\n",
       "mean   26.800000  51600.000000\n",
       "std     3.962323   6730.527468\n",
       "min    22.000000  45000.000000\n",
       "25%    24.000000  47000.000000\n",
       "50%    27.000000  50000.000000\n",
       "75%    29.000000  54000.000000\n",
       "max    32.000000  62000.000000"
      ]
     },
     "execution_count": 125,
     "metadata": {},
     "output_type": "execute_result"
    }
   ],
   "source": [
    "df.describe()"
   ]
  },
  {
   "cell_type": "code",
   "execution_count": 134,
   "id": "831bc7ab-fe83-48e3-8126-8a05d9fa4bb9",
   "metadata": {},
   "outputs": [],
   "source": [
    "a=df[df['Department'] == 'HR']"
   ]
  },
  {
   "cell_type": "code",
   "execution_count": 136,
   "id": "359514b3-3e52-4640-8489-6df3189e6c76",
   "metadata": {},
   "outputs": [],
   "source": [
    "b=a['Salary']"
   ]
  },
  {
   "cell_type": "code",
   "execution_count": 138,
   "id": "573318aa-896a-44c7-82dc-1ccc5f5ef638",
   "metadata": {},
   "outputs": [
    {
     "name": "stdout",
     "output_type": "stream",
     "text": [
      "Average:  46000.0\n"
     ]
    }
   ],
   "source": [
    "print(\"Average: \",np.mean(b))"
   ]
  },
  {
   "cell_type": "markdown",
   "id": "d13c3b48-2794-48e2-a620-bbd47f720a1a",
   "metadata": {},
   "source": [
    "## Description"
   ]
  },
  {
   "cell_type": "markdown",
   "id": "8c2429dc-2f0d-47b5-9a5f-3383d29a76f4",
   "metadata": {},
   "source": [
    "I have created the given data using dictionary and dataframe is created by df=pd.DataFrame(data) here df is the variable.To print the first 5 rows i have used df.head() as it can print first 5 rows as default.To get the summary statistics of the 'Age' and 'Salary' columns i established df.describe() for the statistical information.To get the average salary of hr department i implemented a=df[df['Department'] == 'HR'] to check whether deparment is equal to hr.then b=a['Salary'] if the department is equal to hr then store the salary in b.then i used np.mean(b) to print the average of b."
   ]
  },
  {
   "cell_type": "markdown",
   "id": "e07e27a9-828c-430b-8fcc-3d96275dd47a",
   "metadata": {},
   "source": [
    "2. Add a new column, 'Bonus', which is 10% of the salary.  "
   ]
  },
  {
   "cell_type": "code",
   "execution_count": 141,
   "id": "1b0f337f-218a-4d48-8db0-694acb81c3b4",
   "metadata": {},
   "outputs": [
    {
     "data": {
      "text/html": [
       "<div>\n",
       "<style scoped>\n",
       "    .dataframe tbody tr th:only-of-type {\n",
       "        vertical-align: middle;\n",
       "    }\n",
       "\n",
       "    .dataframe tbody tr th {\n",
       "        vertical-align: top;\n",
       "    }\n",
       "\n",
       "    .dataframe thead th {\n",
       "        text-align: right;\n",
       "    }\n",
       "</style>\n",
       "<table border=\"1\" class=\"dataframe\">\n",
       "  <thead>\n",
       "    <tr style=\"text-align: right;\">\n",
       "      <th></th>\n",
       "      <th>Name</th>\n",
       "      <th>Age</th>\n",
       "      <th>Department</th>\n",
       "      <th>Salary</th>\n",
       "      <th>Bonus</th>\n",
       "    </tr>\n",
       "  </thead>\n",
       "  <tbody>\n",
       "    <tr>\n",
       "      <th>0</th>\n",
       "      <td>Alice</td>\n",
       "      <td>24</td>\n",
       "      <td>HR</td>\n",
       "      <td>45000</td>\n",
       "      <td>4500.0</td>\n",
       "    </tr>\n",
       "    <tr>\n",
       "      <th>1</th>\n",
       "      <td>Bob</td>\n",
       "      <td>27</td>\n",
       "      <td>Finance</td>\n",
       "      <td>54000</td>\n",
       "      <td>5400.0</td>\n",
       "    </tr>\n",
       "    <tr>\n",
       "      <th>2</th>\n",
       "      <td>Charlie</td>\n",
       "      <td>22</td>\n",
       "      <td>IT</td>\n",
       "      <td>50000</td>\n",
       "      <td>5000.0</td>\n",
       "    </tr>\n",
       "    <tr>\n",
       "      <th>3</th>\n",
       "      <td>Diana</td>\n",
       "      <td>32</td>\n",
       "      <td>Marketing</td>\n",
       "      <td>62000</td>\n",
       "      <td>6200.0</td>\n",
       "    </tr>\n",
       "    <tr>\n",
       "      <th>4</th>\n",
       "      <td>Eve</td>\n",
       "      <td>29</td>\n",
       "      <td>HR</td>\n",
       "      <td>47000</td>\n",
       "      <td>4700.0</td>\n",
       "    </tr>\n",
       "  </tbody>\n",
       "</table>\n",
       "</div>"
      ],
      "text/plain": [
       "      Name  Age Department  Salary   Bonus\n",
       "0    Alice   24         HR   45000  4500.0\n",
       "1      Bob   27    Finance   54000  5400.0\n",
       "2  Charlie   22         IT   50000  5000.0\n",
       "3    Diana   32  Marketing   62000  6200.0\n",
       "4      Eve   29         HR   47000  4700.0"
      ]
     },
     "execution_count": 141,
     "metadata": {},
     "output_type": "execute_result"
    }
   ],
   "source": [
    "df['Bonus']=df['Salary']*0.10\n",
    "df"
   ]
  },
  {
   "cell_type": "markdown",
   "id": "d11c76cb-f73a-40bd-a863-ea6cc9043a51",
   "metadata": {},
   "source": [
    "## Description"
   ]
  },
  {
   "cell_type": "markdown",
   "id": "7d4602db-ac4c-4669-af20-014af9aef0e0",
   "metadata": {},
   "source": [
    "To add a new column called bonus I have used df['Bonus']=df['Salary']*0.10.here df[Bonus]is the new column.df[Salary]*010 is the 10 percetage of salary for each members in the data so,the 10 % salary is stored in the new column named bonus.\n"
   ]
  },
  {
   "cell_type": "markdown",
   "id": "1e7d9fa1-52a5-493c-8d05-0ed0e0f6e77c",
   "metadata": {},
   "source": [
    "3. Filter the DataFrame to show employees aged between 25 and 30.  "
   ]
  },
  {
   "cell_type": "code",
   "execution_count": 98,
   "id": "48c0d54e-a3b3-4312-ba18-e0c7b19b9dc3",
   "metadata": {},
   "outputs": [
    {
     "data": {
      "text/html": [
       "<div>\n",
       "<style scoped>\n",
       "    .dataframe tbody tr th:only-of-type {\n",
       "        vertical-align: middle;\n",
       "    }\n",
       "\n",
       "    .dataframe tbody tr th {\n",
       "        vertical-align: top;\n",
       "    }\n",
       "\n",
       "    .dataframe thead th {\n",
       "        text-align: right;\n",
       "    }\n",
       "</style>\n",
       "<table border=\"1\" class=\"dataframe\">\n",
       "  <thead>\n",
       "    <tr style=\"text-align: right;\">\n",
       "      <th></th>\n",
       "      <th>Name</th>\n",
       "      <th>Age</th>\n",
       "      <th>Department</th>\n",
       "      <th>Salary</th>\n",
       "      <th>Bonus</th>\n",
       "    </tr>\n",
       "  </thead>\n",
       "  <tbody>\n",
       "    <tr>\n",
       "      <th>1</th>\n",
       "      <td>Bob</td>\n",
       "      <td>27</td>\n",
       "      <td>Finance</td>\n",
       "      <td>54000</td>\n",
       "      <td>5400.0</td>\n",
       "    </tr>\n",
       "    <tr>\n",
       "      <th>4</th>\n",
       "      <td>Eve</td>\n",
       "      <td>29</td>\n",
       "      <td>HR</td>\n",
       "      <td>47000</td>\n",
       "      <td>4700.0</td>\n",
       "    </tr>\n",
       "  </tbody>\n",
       "</table>\n",
       "</div>"
      ],
      "text/plain": [
       "  Name  Age Department  Salary   Bonus\n",
       "1  Bob   27    Finance   54000  5400.0\n",
       "4  Eve   29         HR   47000  4700.0"
      ]
     },
     "execution_count": 98,
     "metadata": {},
     "output_type": "execute_result"
    }
   ],
   "source": [
    "a=df[(df['Age']>=25) & (df['Age']<=30)]\n",
    "a"
   ]
  },
  {
   "cell_type": "markdown",
   "id": "05cc7418-48e9-43f0-a9a7-a601568e4e79",
   "metadata": {},
   "source": [
    "## Description"
   ]
  },
  {
   "cell_type": "markdown",
   "id": "770bbc9f-1d77-4b68-97e0-3ab5022c6ecc",
   "metadata": {},
   "source": [
    "To filter the DataFrame to show employees aged between 25 and 30 i used the condition a=df[(df['Age']>=25) & (df['Age']<=30)] which includes the members aged between 25 and 30.\n"
   ]
  },
  {
   "cell_type": "markdown",
   "id": "0f5f4796-8cf8-48e4-96c5-36a6c7daf1a8",
   "metadata": {},
   "source": [
    "4. Group the data by 'Department' and calculate the average salary for each department.  \n"
   ]
  },
  {
   "cell_type": "code",
   "execution_count": 101,
   "id": "406ce992-4e67-4fe6-9798-af530a796d4c",
   "metadata": {},
   "outputs": [],
   "source": [
    "df=df.groupby('Department')['Salary'].mean()"
   ]
  },
  {
   "cell_type": "code",
   "execution_count": 103,
   "id": "5da179da-bdb0-4f35-bdfe-931aea3fcc0d",
   "metadata": {},
   "outputs": [
    {
     "data": {
      "text/plain": [
       "Department\n",
       "Finance      54000.0\n",
       "HR           46000.0\n",
       "IT           50000.0\n",
       "Marketing    62000.0\n",
       "Name: Salary, dtype: float64"
      ]
     },
     "execution_count": 103,
     "metadata": {},
     "output_type": "execute_result"
    }
   ],
   "source": [
    "df"
   ]
  },
  {
   "cell_type": "markdown",
   "id": "3c364b5d-6b51-4e7d-9e8a-70a5cce83941",
   "metadata": {},
   "source": [
    "### Description"
   ]
  },
  {
   "cell_type": "markdown",
   "id": "2ec6d974-96f9-453a-b3fa-e8f8e893db54",
   "metadata": {},
   "source": [
    " To group the data by 'Department' and calculate the average salary for each department. i used groupby function df=df.groupby('Department')['Salary'].mean().here the data is grouped by department [salary].mean is used to find the average or mean of each department.\n"
   ]
  },
  {
   "cell_type": "markdown",
   "id": "80fd98ce-7f26-4e53-9323-c1ac4560df53",
   "metadata": {},
   "source": [
    "5. Sort the DataFrame by 'Salary' in ascending order and save the result to a new CSV file.  \n"
   ]
  },
  {
   "cell_type": "code",
   "execution_count": 146,
   "id": "9dbc8ae8-38fa-425b-9427-90f7fbb0dada",
   "metadata": {},
   "outputs": [],
   "source": [
    "df_sorted = df.sort_values(by='Salary', ascending=True)"
   ]
  },
  {
   "cell_type": "code",
   "execution_count": 148,
   "id": "e636d442-55e8-4f8c-aaa4-314799158cca",
   "metadata": {},
   "outputs": [
    {
     "data": {
      "text/html": [
       "<div>\n",
       "<style scoped>\n",
       "    .dataframe tbody tr th:only-of-type {\n",
       "        vertical-align: middle;\n",
       "    }\n",
       "\n",
       "    .dataframe tbody tr th {\n",
       "        vertical-align: top;\n",
       "    }\n",
       "\n",
       "    .dataframe thead th {\n",
       "        text-align: right;\n",
       "    }\n",
       "</style>\n",
       "<table border=\"1\" class=\"dataframe\">\n",
       "  <thead>\n",
       "    <tr style=\"text-align: right;\">\n",
       "      <th></th>\n",
       "      <th>Name</th>\n",
       "      <th>Age</th>\n",
       "      <th>Department</th>\n",
       "      <th>Salary</th>\n",
       "      <th>Bonus</th>\n",
       "    </tr>\n",
       "  </thead>\n",
       "  <tbody>\n",
       "    <tr>\n",
       "      <th>0</th>\n",
       "      <td>Alice</td>\n",
       "      <td>24</td>\n",
       "      <td>HR</td>\n",
       "      <td>45000</td>\n",
       "      <td>4500.0</td>\n",
       "    </tr>\n",
       "    <tr>\n",
       "      <th>4</th>\n",
       "      <td>Eve</td>\n",
       "      <td>29</td>\n",
       "      <td>HR</td>\n",
       "      <td>47000</td>\n",
       "      <td>4700.0</td>\n",
       "    </tr>\n",
       "    <tr>\n",
       "      <th>2</th>\n",
       "      <td>Charlie</td>\n",
       "      <td>22</td>\n",
       "      <td>IT</td>\n",
       "      <td>50000</td>\n",
       "      <td>5000.0</td>\n",
       "    </tr>\n",
       "    <tr>\n",
       "      <th>1</th>\n",
       "      <td>Bob</td>\n",
       "      <td>27</td>\n",
       "      <td>Finance</td>\n",
       "      <td>54000</td>\n",
       "      <td>5400.0</td>\n",
       "    </tr>\n",
       "    <tr>\n",
       "      <th>3</th>\n",
       "      <td>Diana</td>\n",
       "      <td>32</td>\n",
       "      <td>Marketing</td>\n",
       "      <td>62000</td>\n",
       "      <td>6200.0</td>\n",
       "    </tr>\n",
       "  </tbody>\n",
       "</table>\n",
       "</div>"
      ],
      "text/plain": [
       "      Name  Age Department  Salary   Bonus\n",
       "0    Alice   24         HR   45000  4500.0\n",
       "4      Eve   29         HR   47000  4700.0\n",
       "2  Charlie   22         IT   50000  5000.0\n",
       "1      Bob   27    Finance   54000  5400.0\n",
       "3    Diana   32  Marketing   62000  6200.0"
      ]
     },
     "execution_count": 148,
     "metadata": {},
     "output_type": "execute_result"
    }
   ],
   "source": [
    "df_sorted"
   ]
  },
  {
   "cell_type": "code",
   "execution_count": 150,
   "id": "76f52ae7-d71d-4595-8b65-d47575bba96c",
   "metadata": {},
   "outputs": [],
   "source": [
    "df_sorted.to_csv('pandas_.csv', index=False)"
   ]
  },
  {
   "cell_type": "code",
   "execution_count": 161,
   "id": "b0c04626-4f63-44b0-9236-8a369b0367d8",
   "metadata": {},
   "outputs": [],
   "source": [
    "df2=pd.read_csv('pandas_.csv')"
   ]
  },
  {
   "cell_type": "code",
   "execution_count": 163,
   "id": "b88330f9-e516-4f6a-a800-4c2d11008e0f",
   "metadata": {},
   "outputs": [
    {
     "data": {
      "text/html": [
       "<div>\n",
       "<style scoped>\n",
       "    .dataframe tbody tr th:only-of-type {\n",
       "        vertical-align: middle;\n",
       "    }\n",
       "\n",
       "    .dataframe tbody tr th {\n",
       "        vertical-align: top;\n",
       "    }\n",
       "\n",
       "    .dataframe thead th {\n",
       "        text-align: right;\n",
       "    }\n",
       "</style>\n",
       "<table border=\"1\" class=\"dataframe\">\n",
       "  <thead>\n",
       "    <tr style=\"text-align: right;\">\n",
       "      <th></th>\n",
       "      <th>Name</th>\n",
       "      <th>Age</th>\n",
       "      <th>Department</th>\n",
       "      <th>Salary</th>\n",
       "      <th>Bonus</th>\n",
       "    </tr>\n",
       "  </thead>\n",
       "  <tbody>\n",
       "    <tr>\n",
       "      <th>0</th>\n",
       "      <td>Alice</td>\n",
       "      <td>24</td>\n",
       "      <td>HR</td>\n",
       "      <td>45000</td>\n",
       "      <td>4500.0</td>\n",
       "    </tr>\n",
       "    <tr>\n",
       "      <th>1</th>\n",
       "      <td>Eve</td>\n",
       "      <td>29</td>\n",
       "      <td>HR</td>\n",
       "      <td>47000</td>\n",
       "      <td>4700.0</td>\n",
       "    </tr>\n",
       "    <tr>\n",
       "      <th>2</th>\n",
       "      <td>Charlie</td>\n",
       "      <td>22</td>\n",
       "      <td>IT</td>\n",
       "      <td>50000</td>\n",
       "      <td>5000.0</td>\n",
       "    </tr>\n",
       "    <tr>\n",
       "      <th>3</th>\n",
       "      <td>Bob</td>\n",
       "      <td>27</td>\n",
       "      <td>Finance</td>\n",
       "      <td>54000</td>\n",
       "      <td>5400.0</td>\n",
       "    </tr>\n",
       "    <tr>\n",
       "      <th>4</th>\n",
       "      <td>Diana</td>\n",
       "      <td>32</td>\n",
       "      <td>Marketing</td>\n",
       "      <td>62000</td>\n",
       "      <td>6200.0</td>\n",
       "    </tr>\n",
       "  </tbody>\n",
       "</table>\n",
       "</div>"
      ],
      "text/plain": [
       "      Name  Age Department  Salary   Bonus\n",
       "0    Alice   24         HR   45000  4500.0\n",
       "1      Eve   29         HR   47000  4700.0\n",
       "2  Charlie   22         IT   50000  5000.0\n",
       "3      Bob   27    Finance   54000  5400.0\n",
       "4    Diana   32  Marketing   62000  6200.0"
      ]
     },
     "execution_count": 163,
     "metadata": {},
     "output_type": "execute_result"
    }
   ],
   "source": [
    "df2"
   ]
  },
  {
   "cell_type": "markdown",
   "id": "4ae21472-7fb5-4df4-852e-fc7999134a6c",
   "metadata": {},
   "source": [
    "## Description"
   ]
  },
  {
   "cell_type": "markdown",
   "id": "3abb1616-804b-4926-8f3c-38302c3f9ae9",
   "metadata": {},
   "source": [
    "To Sort the DataFrame by 'Salary' in ascending order I implemented df_sorted = df.sort_values(by='Salary', ascending=True) which mean it is sorted by salary in ascending order . To save the result to a new CSV file i have used variable.to_csv('filename',index=False) that is df_sorted.to_csv('pandas_.csv', index=False) here index = False mean that the index started from 0 in order i assigned it because when we sort the data in ascending order the index was rearranged so, to arrange it properly i assigned it as False. Finally i called the new csv file.\n"
   ]
  }
 ],
 "metadata": {
  "kernelspec": {
   "display_name": "Python [conda env:base] *",
   "language": "python",
   "name": "conda-base-py"
  },
  "language_info": {
   "codemirror_mode": {
    "name": "ipython",
    "version": 3
   },
   "file_extension": ".py",
   "mimetype": "text/x-python",
   "name": "python",
   "nbconvert_exporter": "python",
   "pygments_lexer": "ipython3",
   "version": "3.12.7"
  }
 },
 "nbformat": 4,
 "nbformat_minor": 5
}
