{
 "cells": [
  {
   "cell_type": "markdown",
   "id": "b062d1b9-ced0-49b3-8181-7378cc70e511",
   "metadata": {},
   "source": [
    "## Assignment 1 - working with numpy\n",
    "1.Create a 1D NumPy array with integers from 1 to 20. Perform the following operations:  \n",
    " a. Calculate the sum, mean, median, and standard deviation of the elements in the array.  \n",
    " b. Find the indices of elements greater than 10 in the array. \n"
   ]
  },
  {
   "cell_type": "code",
   "execution_count": null,
   "id": "29c22edb-3bae-4f2b-8192-c57787b2075a",
   "metadata": {},
   "outputs": [],
   "source": [
    "import numpy as np"
   ]
  },
  {
   "cell_type": "code",
   "execution_count": null,
   "id": "ca0e16ee-213c-4e8f-a759-207610962ce5",
   "metadata": {},
   "outputs": [],
   "source": [
    "np_array=np.arange(1,21)"
   ]
  },
  {
   "cell_type": "code",
   "execution_count": null,
   "id": "2a3e4cdc-f8a9-4620-982e-5cc93e76736e",
   "metadata": {},
   "outputs": [
    {
     "data": {
      "text/plain": [
       "array([ 1,  2,  3,  4,  5,  6,  7,  8,  9, 10, 11, 12, 13, 14, 15, 16, 17,\n",
       "       18, 19, 20])"
      ]
     },
     "execution_count": 5,
     "metadata": {},
     "output_type": "execute_result"
    }
   ],
   "source": [
    "np_array"
   ]
  },
  {
   "cell_type": "code",
   "execution_count": null,
   "id": "a5c6f770-7835-457c-8c96-a62f06605baa",
   "metadata": {},
   "outputs": [],
   "source": [
    "indices=np.where(np_array>10)"
   ]
  },
  {
   "cell_type": "code",
   "execution_count": null,
   "id": "75f21bdf-cae4-47e7-bb2b-4fcaf2ba08f9",
   "metadata": {},
   "outputs": [
    {
     "name": "stdout",
     "output_type": "stream",
     "text": [
      "sum: 210\n",
      "Mean: 10.5\n",
      "Median: 10.5\n",
      "std: 5.766281297335398\n",
      "Indices for the numbers greater than 10:  (array([10, 11, 12, 13, 14, 15, 16, 17, 18, 19], dtype=int64),)\n"
     ]
    }
   ],
   "source": [
    "print(\"sum:\",np.sum(np_array))\n",
    "print(\"Mean:\",np.mean(np_array))\n",
    "print(\"Median:\",np.median(np_array))\n",
    "print(\"std:\",np.std(np_array))\n",
    "print(\"Indices for the numbers greater than 10: \",indices)"
   ]
  },
  {
   "cell_type": "markdown",
   "id": "a9a5aadd-e696-459c-a7fb-87c0ce0b3680",
   "metadata": {},
   "source": [
    "### Description"
   ]
  },
  {
   "cell_type": "markdown",
   "id": "9095e4be-b767-4e55-b432-e325557a3dd4",
   "metadata": {},
   "source": [
    "I created 1D numpy array of integers 1 to 20 by using arange() function. To Calculate the sum, mean, median, and standard deviation of the elements in the array I have used the builtin functions of numpy like np.sum(),np.mean(),np.median(),np.std().Next The where() funtion is used To Find the indices of elements greater than 10 in the array."
   ]
  },
  {
   "cell_type": "markdown",
   "id": "c13f7ad9-a423-4957-9079-7140cb664517",
   "metadata": {
    "jp-MarkdownHeadingCollapsed": true
   },
   "source": [
    "2. Create a 2D NumPy array of shape 4 X 4 with numbers ranging from 1 to 16.  \n",
    "  a. Print the array.  \n",
    "  b. Find the transpose of the array.  \n",
    "  c. Calculate the row-wise and column-wise sums of the array.\n"
   ]
  },
  {
   "cell_type": "code",
   "execution_count": null,
   "id": "eb83e549-2fd7-420a-b4a5-d72a817594e5",
   "metadata": {},
   "outputs": [],
   "source": [
    "np_array=np.arange(16).reshape(4,4)\n",
    "np_transpose=np_array.T\n",
    "np_sum_row=np.sum(np_array,axis=1)# axis=1-row\n",
    "np_sum_column=np.sum(np_array,axis=0)# axis=0-col"
   ]
  },
  {
   "cell_type": "code",
   "execution_count": null,
   "id": "48057b03-ee7b-4b4a-a421-7171c968fd63",
   "metadata": {},
   "outputs": [
    {
     "name": "stdout",
     "output_type": "stream",
     "text": [
      "array\n",
      " [[ 0  1  2  3]\n",
      " [ 4  5  6  7]\n",
      " [ 8  9 10 11]\n",
      " [12 13 14 15]]\n",
      "\n",
      "Transpose\n",
      " [[ 0  4  8 12]\n",
      " [ 1  5  9 13]\n",
      " [ 2  6 10 14]\n",
      " [ 3  7 11 15]]\n",
      "\n",
      "Sum of rows\n",
      " [ 6 22 38 54]\n",
      "\n",
      "Sum of columns\n",
      " [24 28 32 36]\n"
     ]
    }
   ],
   "source": [
    "print(\"array\\n\",np_array)\n",
    "print(\"\\nTranspose\\n\",np_transpose)\n",
    "print(\"\\nSum of rows\\n\",np_sum_row)\n",
    "print(\"\\nSum of columns\\n\",np_sum_column)"
   ]
  },
  {
   "cell_type": "markdown",
   "id": "389ac980-29de-494c-8d0e-9f55bcfcf9a9",
   "metadata": {},
   "source": [
    "### Description"
   ]
  },
  {
   "cell_type": "markdown",
   "id": "d1a16e96-d77a-4baa-9c15-b73f95a7da81",
   "metadata": {},
   "source": [
    "To Create a 2D NumPy array of shape 4 X 4 with numbers ranging from 1 to 16 I used arange()function .To make it in the shape of 4*4 The reshape(4,4) is used.To find the transpose of the array I applied [variable.T] for transpose.To calculate the row wise sum of the array I implemented the np.sum(np_array,axis=1) as well as for column np.sum(np_array,axis=0).here np_array is the variable where i stored the numbers and axis 1 represent the row and axis 0 represent the column."
   ]
  },
  {
   "cell_type": "markdown",
   "id": "02d336dc-e677-430d-b1e9-03ec2b412224",
   "metadata": {},
   "source": [
    "3. Create two 3 X 3 arrays filled with random integers between 1 and 20.  \n",
    "  a. Perform element-wise addition, subtraction, and multiplication.  \n",
    "  b. Compute the dot product of the two arrays.  \n"
   ]
  },
  {
   "cell_type": "code",
   "execution_count": null,
   "id": "75c94540-afe9-46a9-a3ed-9de36fb29dd2",
   "metadata": {},
   "outputs": [],
   "source": [
    "array1=np.random.randint(1,21,(3,3))\n",
    "array2=np.random.randint(1,21,(3,3))"
   ]
  },
  {
   "cell_type": "code",
   "execution_count": null,
   "id": "acb61dd8-6b7f-4503-b077-002072e8b98e",
   "metadata": {},
   "outputs": [
    {
     "data": {
      "text/plain": [
       "array([[13, 18, 12],\n",
       "       [20, 20, 17],\n",
       "       [19, 16,  9]])"
      ]
     },
     "execution_count": 127,
     "metadata": {},
     "output_type": "execute_result"
    }
   ],
   "source": [
    "array1"
   ]
  },
  {
   "cell_type": "code",
   "execution_count": null,
   "id": "a7a4028d-c5f4-46a6-98d8-213ce0e54bc6",
   "metadata": {},
   "outputs": [
    {
     "data": {
      "text/plain": [
       "array([[ 2,  3,  6],\n",
       "       [17, 17, 14],\n",
       "       [10,  3, 13]])"
      ]
     },
     "execution_count": 129,
     "metadata": {},
     "output_type": "execute_result"
    }
   ],
   "source": [
    "array2"
   ]
  },
  {
   "cell_type": "code",
   "execution_count": null,
   "id": "c1923583-eb4e-4b84-aeff-3d8516239b8c",
   "metadata": {},
   "outputs": [],
   "source": [
    "add=array1+array2\n",
    "subtract=array1-array2\n",
    "multiply=array1*array2\n",
    "dot_product=np.dot(array1,array2)"
   ]
  },
  {
   "cell_type": "code",
   "execution_count": null,
   "id": "a88b0df6-12b4-4050-a148-8d7681552443",
   "metadata": {},
   "outputs": [
    {
     "name": "stdout",
     "output_type": "stream",
     "text": [
      "Addition\n",
      " [[15 21 18]\n",
      " [37 37 31]\n",
      " [29 19 22]]\n",
      "\n",
      "subtraction\n",
      " [[11 15  6]\n",
      " [ 3  3  3]\n",
      " [ 9 13 -4]]\n",
      "\n",
      "Multiplication\n",
      " [[ 26  54  72]\n",
      " [340 340 238]\n",
      " [190  48 117]]\n",
      "\n",
      "Dot product\n",
      " [[452 381 486]\n",
      " [550 451 621]\n",
      " [400 356 455]]\n"
     ]
    }
   ],
   "source": [
    "print(\"Addition\\n\",add)\n",
    "print(\"\\nsubtraction\\n\",subtract)\n",
    "print(\"\\nMultiplication\\n\",multiply)\n",
    "print(\"\\nDot product\\n\",dot_product)"
   ]
  },
  {
   "cell_type": "markdown",
   "id": "8bfb7876-bd10-4d49-96ec-d8eb5d320f60",
   "metadata": {},
   "source": [
    "### Description"
   ]
  },
  {
   "cell_type": "markdown",
   "id": "567b2b9f-4bd2-4441-86d6-40f3a51028ce",
   "metadata": {},
   "source": [
    "To create two 3 X 3 arrays filled with random integers between 1 and 20 I started with random.randint(1,21,(3,3)) and stored it in two variables named array1 and array2.To perform operations such as addition ,subtraction,multiplication I have used the operators such as '+','-','*' respectively.For the dot product i have used the np.dot(array1,array2) builtin function.finallyI used print function to print it out. \n",
    "\n"
   ]
  },
  {
   "cell_type": "markdown",
   "id": "f109d167-64e6-492b-84fc-bcffddd92079",
   "metadata": {},
   "source": [
    "4. Reshape a 1D array of size 12 into a 3 X 4 2D array and slice the first two rows and last two columns.  "
   ]
  },
  {
   "cell_type": "code",
   "execution_count": null,
   "id": "691e8fbb-9c9a-48f1-b374-5e9db6ccece5",
   "metadata": {},
   "outputs": [],
   "source": [
    "array=np.arange(1,13).reshape(3,4)\n",
    "a=array[:2]\n",
    "b=array[:,-2:]"
   ]
  },
  {
   "cell_type": "code",
   "execution_count": null,
   "id": "637f23e0-2879-4dc0-8d55-82e87ff14b6f",
   "metadata": {},
   "outputs": [
    {
     "name": "stdout",
     "output_type": "stream",
     "text": [
      "array\n",
      " [[ 1  2  3  4]\n",
      " [ 5  6  7  8]\n",
      " [ 9 10 11 12]]\n",
      "\n",
      "slicing first 2 rows\n",
      " [[1 2 3 4]\n",
      " [5 6 7 8]]\n",
      "\n",
      "slicing last 2 columns\n",
      " [[ 3  4]\n",
      " [ 7  8]\n",
      " [11 12]]\n"
     ]
    }
   ],
   "source": [
    "print(\"array\\n\",array)\n",
    "print(\"\\nslicing first 2 rows\\n\",a)\n",
    "print(\"\\nslicing last 2 columns\\n\",b)"
   ]
  },
  {
   "cell_type": "markdown",
   "id": "dc9a2bcf-6237-4c78-a85e-4ab221d5df04",
   "metadata": {},
   "source": [
    "### Description"
   ]
  },
  {
   "cell_type": "markdown",
   "id": "63d28023-ca84-4adc-9009-03edf7256abc",
   "metadata": {},
   "source": [
    "To reshape a 1D array of size 12 into 3*4 i used np.arange(1,13).reshape(3,4) to store the numbers from 1 to 12 and reshape it to 3*4 and named the variable as array.to slice first 2 rows and last 2 columns i have used slice function array[:2] for rows and array[;,-2;]for columns"
   ]
  }
 ],
 "metadata": {
  "kernelspec": {
   "display_name": "Python [conda env:base] *",
   "language": "python",
   "name": "conda-base-py"
  },
  "language_info": {
   "codemirror_mode": {
    "name": "ipython",
    "version": 3
   },
   "file_extension": ".py",
   "mimetype": "text/x-python",
   "name": "python",
   "nbconvert_exporter": "python",
   "pygments_lexer": "ipython3",
   "version": "3.12.7"
  }
 },
 "nbformat": 4,
 "nbformat_minor": 5
}
